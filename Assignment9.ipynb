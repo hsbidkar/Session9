{
 "cells": [
  {
   "cell_type": "markdown",
   "metadata": {},
   "source": [
    "# Assignment9 : Statistics 1 & 2"
   ]
  },
  {
   "cell_type": "markdown",
   "metadata": {},
   "source": [
    "## Task 1\n",
    "### 1.1 : You survey households in your area to find the average rent they are paying.Find the standard deviation from the following data:\n",
    "`$1550,$1700,$900,$850,$1000,$950`"
   ]
  },
  {
   "cell_type": "code",
   "execution_count": 11,
   "metadata": {},
   "outputs": [
    {
     "name": "stdout",
     "output_type": "stream",
     "text": [
      "Standard deviation for [1550, 1700, 900, 850, 1000, 950] is 367.99003609699366\n"
     ]
    }
   ],
   "source": [
    "rent=[1550,1700,900,850,1000,950]\n",
    "\n",
    "def std_sample_variance(x):\n",
    "    sum=0\n",
    "    diff_mean_sq=0\n",
    "    samples=len(x)\n",
    "    if samples <= 1 :\n",
    "        return \"Please give atleast two samples\"\n",
    "    for i in range(0,samples):\n",
    "        sum+=x[i]\n",
    "        x_mean=sum/samples\n",
    "    for i in range(0,samples):\n",
    "        diff_mean_sq+=(x[i]-x_mean)**2\n",
    "    x_variance=diff_mean_sq/(samples-1)\n",
    "    return x_variance\n",
    "\n",
    "rent_var=std_sample_variance(rent)\n",
    "rent_std_sample_deviation=rent_var**0.5\n",
    "\n",
    "print(\"Standard deviation for {} is {}\".format(rent,rent_std_sample_deviation))"
   ]
  },
  {
   "cell_type": "code",
   "execution_count": 12,
   "metadata": {},
   "outputs": [
    {
     "name": "stdout",
     "output_type": "stream",
     "text": [
      "Standard deviation for [1550, 1700, 900, 850, 1000, 950] is 367.9900360969936\n"
     ]
    }
   ],
   "source": [
    "import statistics as st\n",
    "print(\"Standard deviation for {} is {}\".format(rent,st.stdev(rent)))"
   ]
  },
  {
   "cell_type": "markdown",
   "metadata": {},
   "source": [
    "### 1.2 : Find the variance for the following set of data representing trees in California (heights in feet):\n",
    "`3, 21, 98, 203, 17, 9`"
   ]
  },
  {
   "cell_type": "code",
   "execution_count": 13,
   "metadata": {},
   "outputs": [
    {
     "name": "stdout",
     "output_type": "stream",
     "text": [
      "Standard variance for [3, 21, 98, 203, 17, 9] is 6219.9\n"
     ]
    }
   ],
   "source": [
    "height=[3,21,98,203,17,9]\n",
    "\n",
    "height_var=std_sample_variance(height)\n",
    "\n",
    "print(\"Standard variance for {} is {}\".format(height,height_var))"
   ]
  },
  {
   "cell_type": "code",
   "execution_count": 14,
   "metadata": {},
   "outputs": [
    {
     "name": "stdout",
     "output_type": "stream",
     "text": [
      "Standard variance for [3, 21, 98, 203, 17, 9] is 6219.9\n"
     ]
    }
   ],
   "source": [
    "import statistics as st\n",
    "print(\"Standard variance for {} is {}\".format(height,st.variance(height)))"
   ]
  },
  {
   "cell_type": "markdown",
   "metadata": {},
   "source": [
    "### 1.3 : In a class on 100 students, 80 students passed in all subjects, 10 failed in one subject, 7 failed in two subjects and 3 failed in three subjects. Find the probability distribution of the variable for number of subjects a student from the given class has failed in."
   ]
  },
  {
   "cell_type": "code",
   "execution_count": 15,
   "metadata": {},
   "outputs": [
    {
     "name": "stdout",
     "output_type": "stream",
     "text": [
      "Probability distribution for failure in 0 subjects is 0.8\n",
      "Probability distribution for failure in 1 subjects is 0.1\n",
      "Probability distribution for failure in 2 subjects is 0.07\n",
      "Probability distribution for failure in 3 subjects is 0.03\n"
     ]
    }
   ],
   "source": [
    "total_students=100\n",
    "fail=[80,10,7,3]\n",
    "prob_f=[0,0,0,0]\n",
    "for i in range(4):\n",
    "    prob_f[i]=fail[i]/total_students\n",
    "    print(\"Probability distribution for failure in {} subjects is {}\".format(i,prob_f[i]))"
   ]
  },
  {
   "cell_type": "markdown",
   "metadata": {},
   "source": [
    "### Task 2 \n",
    "### 2.1 : A test is conducted which is consisting of 20 MCQs (multiple choices questions) with every MCQ having its four options out of which only one is correct. Determine the probability that a person undertaking that test has answered exactly 5 questions wrong."
   ]
  },
  {
   "cell_type": "code",
   "execution_count": 16,
   "metadata": {},
   "outputs": [
    {
     "name": "stdout",
     "output_type": "stream",
     "text": [
      "Probability that a person undertaking that test has answered exactly 5 questions wrong is 3.4264958230778575e-06\n"
     ]
    }
   ],
   "source": [
    "import math\n",
    "sample=20\n",
    "x=5\n",
    "prob_right=1/4\n",
    "prob_wrong=1-prob_right\n",
    "#binomial probability function\n",
    "prob_5wrong_20 = (math.factorial(sample)/(math.factorial(x)*math.factorial(sample-x)))\\\n",
    "                    *pow(prob_right,sample-x)*pow(prob_wrong,x)\n",
    "print(\"Probability that a person undertaking \\\n",
    "that test has answered exactly 5 questions wrong is {}\".format(prob_5wrong_20))"
   ]
  },
  {
   "cell_type": "code",
   "execution_count": 17,
   "metadata": {},
   "outputs": [
    {
     "name": "stdout",
     "output_type": "stream",
     "text": [
      "Probability that a person undertaking that test has answered exactly 5 questions wrong is 3.4264958230778435e-06\n"
     ]
    }
   ],
   "source": [
    "from scipy.stats import binom\n",
    "print(\"Probability that a person undertaking \\\n",
    "that test has answered exactly 5 questions wrong is {}\".format(binom.pmf(5,20,0.75)))"
   ]
  },
  {
   "cell_type": "markdown",
   "metadata": {},
   "source": [
    "### 2.2 : A die marked A to E is rolled 50 times. Find the probability of getting a “D” exactly 5 times."
   ]
  },
  {
   "cell_type": "code",
   "execution_count": 18,
   "metadata": {},
   "outputs": [
    {
     "name": "stdout",
     "output_type": "stream",
     "text": [
      "Probability that getting D exactly 5 times is 0.0745022589928641\n"
     ]
    }
   ],
   "source": [
    "import math\n",
    "prob_D_success=1/6 #since dice has 6 faces but only here marked with A to E.\n",
    "prob_D_fail=1-prob_D_success\n",
    "sample=50\n",
    "x=5\n",
    "prob_D_exact5_50 = (math.factorial(sample)/(math.factorial(x)*math.factorial(sample-x)))\\\n",
    "                    *pow(prob_D_fail,sample-x)*pow(prob_D_success,x)\n",
    "print(\"Probability that getting D exactly 5 times is {}\".format(prob_D_exact5_50))"
   ]
  },
  {
   "cell_type": "markdown",
   "metadata": {},
   "source": [
    "### 2.3 : Two balls are drawn at random in succession without replacement from an urn containing 4 red balls and 6 black balls. Find the probabilities of all the possible outcomes."
   ]
  },
  {
   "cell_type": "code",
   "execution_count": 19,
   "metadata": {},
   "outputs": [
    {
     "name": "stdout",
     "output_type": "stream",
     "text": [
      "Probability that both are red is 0.13333333333333333\n",
      "Probability that both are black is 0.3333333333333333\n",
      "Probability that one is either red or black is 0.5333333333333333\n"
     ]
    }
   ],
   "source": [
    "sample=10\n",
    "x_Red=4\n",
    "x_Black=6\n",
    "Prob_RR=(4/10)*(3/9)\n",
    "Prob_RB=(4/10)*(6/9)\n",
    "Prob_BR=(6/10)*(4/9)\n",
    "Prob_BB=(6/10)*(5/9)\n",
    "print(\"Probability that both are red is {}\".format(Prob_RR))\n",
    "print(\"Probability that both are black is {}\".format(Prob_BB))\n",
    "print(\"Probability that one is either red or black is {}\".format(Prob_RB+Prob_BR))"
   ]
  },
  {
   "cell_type": "code",
   "execution_count": null,
   "metadata": {},
   "outputs": [],
   "source": []
  },
  {
   "cell_type": "code",
   "execution_count": null,
   "metadata": {},
   "outputs": [],
   "source": []
  },
  {
   "cell_type": "code",
   "execution_count": null,
   "metadata": {},
   "outputs": [],
   "source": []
  }
 ],
 "metadata": {
  "kernelspec": {
   "display_name": "Python 3",
   "language": "python",
   "name": "python3"
  },
  "language_info": {
   "codemirror_mode": {
    "name": "ipython",
    "version": 3
   },
   "file_extension": ".py",
   "mimetype": "text/x-python",
   "name": "python",
   "nbconvert_exporter": "python",
   "pygments_lexer": "ipython3",
   "version": "3.7.0"
  }
 },
 "nbformat": 4,
 "nbformat_minor": 2
}
